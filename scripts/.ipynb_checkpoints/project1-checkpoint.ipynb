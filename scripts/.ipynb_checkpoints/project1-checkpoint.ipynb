{
 "cells": [
  {
   "cell_type": "code",
   "execution_count": 18,
   "metadata": {},
   "outputs": [
    {
     "name": "stdout",
     "output_type": "stream",
     "text": [
      "The autoreload extension is already loaded. To reload it, use:\n",
      "  %reload_ext autoreload\n"
     ]
    }
   ],
   "source": [
    "# Useful starting lines\n",
    "%matplotlib inline\n",
    "import numpy as np\n",
    "import matplotlib.pyplot as plt\n",
    "%load_ext autoreload\n",
    "%autoreload 2"
   ]
  },
  {
   "cell_type": "markdown",
   "metadata": {},
   "source": [
    "## Load the training data into feature matrix, class labels, and event ids:"
   ]
  },
  {
   "cell_type": "code",
   "execution_count": 20,
   "metadata": {},
   "outputs": [
    {
     "name": "stdout",
     "output_type": "stream",
     "text": [
      "['DER_mass_MMC', 'DER_mass_transverse_met_lep', 'DER_mass_vis', 'DER_pt_h', 'DER_deltaeta_jet_jet', 'DER_mass_jet_jet', 'DER_prodeta_jet_jet', 'DER_deltar_tau_lep', 'DER_pt_tot', 'DER_sum_pt', 'DER_pt_ratio_lep_tau', 'DER_met_phi_centrality', 'DER_lep_eta_centrality', 'PRI_tau_pt', 'PRI_tau_eta', 'PRI_tau_phi', 'PRI_lep_pt', 'PRI_lep_eta', 'PRI_lep_phi', 'PRI_met', 'PRI_met_phi', 'PRI_met_sumet', 'PRI_jet_num', 'PRI_jet_leading_pt', 'PRI_jet_leading_eta', 'PRI_jet_leading_phi', 'PRI_jet_subleading_pt', 'PRI_jet_subleading_eta', 'PRI_jet_subleading_phi', 'PRI_jet_all_pt']\n",
      "<class 'list'>\n"
     ]
    }
   ],
   "source": [
    "from proj1_helpers import *\n",
    "DATA_TRAIN_PATH = '../data/train.csv'\n",
    "y, tX, ids, features = load_csv_data(DATA_TRAIN_PATH, sub_sample=True)\n",
    "\n",
    "print(features)"
   ]
  },
  {
   "cell_type": "code",
   "execution_count": 48,
   "metadata": {},
   "outputs": [
    {
     "name": "stdout",
     "output_type": "stream",
     "text": [
      "Features for whom additive binarization was performed:\n",
      "DER_pt_h\n",
      "DER_deltaeta_jet_jet\n",
      "[[ 5.50600e+00 -9.99000e+02 -9.99000e+02  1.00000e+00  0.00000e+00]\n",
      " [ 5.59780e+01 -9.99000e+02 -9.99000e+02  1.00000e+00  0.00000e+00]\n",
      " [ 1.03373e+02  9.00000e-01  4.76360e+01  1.00000e+00  1.00000e+00]\n",
      " [ 5.46210e+01 -9.99000e+02 -9.99000e+02  1.00000e+00  0.00000e+00]\n",
      " [ 5.10200e+01  3.38400e+00  2.64003e+02  1.00000e+00  1.00000e+00]\n",
      " [ 3.07880e+01 -9.99000e+02 -9.99000e+02  1.00000e+00  0.00000e+00]\n",
      " [ 5.55000e-01 -9.99000e+02 -9.99000e+02  1.00000e+00  0.00000e+00]\n",
      " [ 3.54530e+01 -9.99000e+02 -9.99000e+02  1.00000e+00  0.00000e+00]\n",
      " [ 3.85720e+01  2.89300e+00  2.89378e+02  1.00000e+00  1.00000e+00]\n",
      " [ 2.26790e+01 -9.99000e+02 -9.99000e+02  1.00000e+00  0.00000e+00]\n",
      " [ 7.11800e+00 -9.99000e+02 -9.99000e+02  1.00000e+00  0.00000e+00]\n",
      " [ 6.12020e+01  1.19100e+00  1.46815e+02  1.00000e+00  1.00000e+00]\n",
      " [ 1.63030e+01 -9.99000e+02 -9.99000e+02  1.00000e+00  0.00000e+00]\n",
      " [ 1.34895e+02 -9.99000e+02 -9.99000e+02  1.00000e+00  0.00000e+00]\n",
      " [ 5.49470e+01 -9.99000e+02 -9.99000e+02  1.00000e+00  0.00000e+00]\n",
      " [ 2.79320e+01 -9.99000e+02 -9.99000e+02  1.00000e+00  0.00000e+00]\n",
      " [ 4.36820e+01 -9.99000e+02 -9.99000e+02  1.00000e+00  0.00000e+00]\n",
      " [ 2.35560e+01 -9.99000e+02 -9.99000e+02  1.00000e+00  0.00000e+00]\n",
      " [ 3.28330e+01 -9.99000e+02 -9.99000e+02  1.00000e+00  0.00000e+00]\n",
      " [ 2.21700e+00 -9.99000e+02 -9.99000e+02  1.00000e+00  0.00000e+00]\n",
      " [ 7.02160e+01 -9.99000e+02 -9.99000e+02  1.00000e+00  0.00000e+00]\n",
      " [ 5.56660e+01 -9.99000e+02 -9.99000e+02  1.00000e+00  0.00000e+00]\n",
      " [ 4.38100e+00 -9.99000e+02 -9.99000e+02  1.00000e+00  0.00000e+00]\n",
      " [ 3.20600e+00 -9.99000e+02 -9.99000e+02  1.00000e+00  0.00000e+00]]\n",
      "['DER_pt_h', 'DER_deltaeta_jet_jet', 'DER_mass_jet_jet', 'DER_pt_h_NAN_BINARIZED', 'DER_deltaeta_jet_jet_NAN_BINARIZED']\n"
     ]
    }
   ],
   "source": [
    "from implementations import *\n",
    "\n",
    "\n",
    "# TEST binarize_undefined\n",
    "tX_test = tX[1:25,3:6]\n",
    "features_test = features[3:6]\n",
    "\n",
    "tX_test, features_test = binarize_undefined(tX_test, features_test, ['DER_pt_h','DER_deltaeta_jet_jet'], verbose=True)\n",
    "\n",
    "print(tX_test)\n",
    "print(features_test)"
   ]
  },
  {
   "cell_type": "markdown",
   "metadata": {},
   "source": [
    "## Do your thing crazy machine learning thing here :) ..."
   ]
  },
  {
   "cell_type": "code",
   "execution_count": 75,
   "metadata": {},
   "outputs": [],
   "source": [
    "def tXToX(tX):\n",
    "    X = np.c_[np.ones(tX.shape[0]), tX]\n",
    "\n",
    "    X_safe = X\n",
    "    for i in range(X.shape[0]):\n",
    "        for j in range(X.shape[1]):\n",
    "            if X[i,j] < -990:\n",
    "                X[i,j] = 0\n",
    "    \n",
    "    return X_safe\n",
    "\n",
    "X = np.c_[np.ones(len(y)), tX]\n",
    "n, d = X.shape\n",
    "\n",
    "X_safe = tXToX(tX)"
   ]
  },
  {
   "cell_type": "code",
   "execution_count": 95,
   "metadata": {},
   "outputs": [],
   "source": [
    "from implementations import *"
   ]
  },
  {
   "cell_type": "code",
   "execution_count": 5,
   "metadata": {},
   "outputs": [],
   "source": [
    "w_mse, loss_mse = least_squares(y, X)"
   ]
  },
  {
   "cell_type": "code",
   "execution_count": 6,
   "metadata": {},
   "outputs": [
    {
     "name": "stdout",
     "output_type": "stream",
     "text": [
      "0.754\n"
     ]
    }
   ],
   "source": [
    "accuracy_mse = compute_accuracy(predict_labels(w_mse, X), y)\n",
    "print(accuracy_mse)"
   ]
  },
  {
   "cell_type": "code",
   "execution_count": 7,
   "metadata": {},
   "outputs": [
    {
     "name": "stdout",
     "output_type": "stream",
     "text": [
      "Testing hyperparameter value 0.001000 - loss: 0.326\n",
      "Testing hyperparameter value 0.010000 - loss: 0.327\n",
      "Testing hyperparameter value 0.100000 - loss: 0.332\n",
      "Testing hyperparameter value 1.000000 - loss: 0.340\n",
      "Testing hyperparameter value 10.000000 - loss: 0.345\n",
      "Testing hyperparameter value 100.000000 - loss: 0.353\n",
      "Optimal lambda: 0.001000\n"
     ]
    }
   ],
   "source": [
    "def ridge_classifier(lambda_):\n",
    "    return ridge_regression(y, X, lambda_)\n",
    "\n",
    "lambda_ridge, _, _ = find_max_hyperparam(ridge_classifier, [10**c for c in range(-3,3)])\n",
    "print(\"Optimal lambda: %f\" % lambda_ridge)"
   ]
  },
  {
   "cell_type": "code",
   "execution_count": 8,
   "metadata": {},
   "outputs": [
    {
     "name": "stdout",
     "output_type": "stream",
     "text": [
      "0.7539100000000001\n"
     ]
    }
   ],
   "source": [
    "def ridge_train(y_train, X_train):\n",
    "    return ridge_regression(y, X, lambda_ridge)\n",
    "\n",
    "def ridge_test(X_test, w):\n",
    "    return np.sign(X_test@w)\n",
    "\n",
    "accuracy_ridge = cross_validate(y, X, ridge_train, ridge_test, 0.8, 100)\n",
    "print(accuracy_ridge)"
   ]
  },
  {
   "cell_type": "code",
   "execution_count": 64,
   "metadata": {},
   "outputs": [
    {
     "name": "stdout",
     "output_type": "stream",
     "text": [
      "0.7397333333333334\n"
     ]
    }
   ],
   "source": [
    "def log_reg_train(y_train, X_train):\n",
    "    return logistic_regression(y_train, X_train, 0.01*np.ones(X_train.shape[1]), 1000, verbose=False)\n",
    "\n",
    "def log_reg_test(X_test, w):\n",
    "    return np.sign(X_test@w)\n",
    "\n",
    "accuracy_log_reg = cross_validate(y, X_safe, log_reg_train, log_reg_test, 0.7, 20)\n",
    "print(accuracy_log_reg)"
   ]
  },
  {
   "cell_type": "code",
   "execution_count": 89,
   "metadata": {},
   "outputs": [],
   "source": [
    "def reg_log_reg_classifier(lambda_):\n",
    "    return reg_logistic_regression(y, X_safe, lambda_, np.zeros(X_safe.shape[1]), 1000)\n",
    "\n",
    "def log_reg_sparse_classifier(lambda_):\n",
    "    return logistic_regression_sparse(y, X_safe, lambda_, np.zeros(X_safe.shape[1]), 1000)\n",
    "\n",
    "def mse_sparse_classifier(lambda_):\n",
    "    return least_squares_sparse(y, X_safe, lambda_, np.zeros(X_safe.shape[1]), 1000)"
   ]
  },
  {
   "cell_type": "code",
   "execution_count": 90,
   "metadata": {},
   "outputs": [
    {
     "name": "stdout",
     "output_type": "stream",
     "text": [
      "Testing hyperparameter value 0.001000 - loss: 2524.940\n",
      "Testing hyperparameter value 0.010000 - loss: 2517.906\n",
      "Testing hyperparameter value 0.100000 - loss: 2508.234\n",
      "Testing hyperparameter value 1.000000 - loss: 2507.569\n",
      "Testing hyperparameter value 10.000000 - loss: 2518.794\n",
      "Testing hyperparameter value 100.000000 - loss: 2521.077\n"
     ]
    }
   ],
   "source": [
    "lambda_log_reg_l2, _, _ = find_max_hyperparam(reg_log_reg_classifier, [10**c for c in range(-3,3)])"
   ]
  },
  {
   "cell_type": "code",
   "execution_count": 92,
   "metadata": {},
   "outputs": [
    {
     "name": "stdout",
     "output_type": "stream",
     "text": [
      "Testing hyperparameter value 0.001000 - loss: 2517.383\n",
      "Testing hyperparameter value 0.010000 - loss: 2533.131\n",
      "Testing hyperparameter value 0.100000 - loss: 2528.486\n",
      "Testing hyperparameter value 1.000000 - loss: 2547.096\n",
      "Testing hyperparameter value 10.000000 - loss: 2537.588\n",
      "Testing hyperparameter value 100.000000 - loss: 2576.245\n"
     ]
    }
   ],
   "source": [
    "lambda_log_reg_l1, _, _ = find_max_hyperparam(log_reg_sparse_classifier, [10**c for c in range(-3,3)])"
   ]
  },
  {
   "cell_type": "code",
   "execution_count": 99,
   "metadata": {},
   "outputs": [
    {
     "name": "stdout",
     "output_type": "stream",
     "text": [
      "Testing hyperparameter value 0.000001 - loss: 0.325\n",
      "Testing hyperparameter value 0.000010 - loss: 0.325\n",
      "Testing hyperparameter value 0.000100 - loss: 0.325\n",
      "Testing hyperparameter value 0.001000 - loss: 0.326\n",
      "Testing hyperparameter value 0.010000 - loss: 0.327\n",
      "Testing hyperparameter value 0.100000 - loss: 0.332\n",
      "Testing hyperparameter value 1.000000 - loss: 0.340\n"
     ]
    }
   ],
   "source": [
    "lambda_mse_l2, _, _ = find_max_hyperparam(ridge_classifier, [10**c for c in range(-6,1)])"
   ]
  },
  {
   "cell_type": "code",
   "execution_count": 101,
   "metadata": {},
   "outputs": [
    {
     "name": "stdout",
     "output_type": "stream",
     "text": [
      "Testing hyperparameter value 0.000001 - loss: 0.340\n",
      "Testing hyperparameter value 0.000010 - loss: 0.338\n",
      "Testing hyperparameter value 0.000100 - loss: 0.341\n",
      "Testing hyperparameter value 0.001000 - loss: 0.339\n",
      "Testing hyperparameter value 0.010000 - loss: 0.346\n",
      "Testing hyperparameter value 0.100000 - loss: 0.354\n",
      "Testing hyperparameter value 1.000000 - loss: 0.360\n"
     ]
    }
   ],
   "source": [
    "lambda_mse_l1, w_mse_l1, _ = find_max_hyperparam(mse_sparse_classifier, [10**c for c in range(-6,1)])"
   ]
  },
  {
   "cell_type": "code",
   "execution_count": 122,
   "metadata": {},
   "outputs": [
    {
     "name": "stdout",
     "output_type": "stream",
     "text": [
      "Non-zero weights: 26 / 31\n"
     ]
    }
   ],
   "source": [
    "w_mse_l1, _ = least_squares_sparse(y, X_safe, 0.01, np.zeros(X_safe.shape[1]), 1000)\n",
    "print(\"Non-zero weights: %i / %i\" % (np.sum(w_mse_l1 != 0), len(w_mse_l1)))"
   ]
  },
  {
   "cell_type": "code",
   "execution_count": 71,
   "metadata": {},
   "outputs": [
    {
     "name": "stdout",
     "output_type": "stream",
     "text": [
      "0.7554\n"
     ]
    }
   ],
   "source": [
    "p = 1\n",
    "ypred_kernel = kernel_predict(kernel_poly, y, X_safe, X_safe, p, lambda_=1)\n",
    "print(compute_accuracy(ypred_kernel, y))"
   ]
  },
  {
   "cell_type": "markdown",
   "metadata": {},
   "source": [
    "## Generate predictions and save ouput in csv format for submission:"
   ]
  },
  {
   "cell_type": "code",
   "execution_count": 72,
   "metadata": {},
   "outputs": [],
   "source": [
    "DATA_TEST_PATH = '../data/test.csv'\n",
    "y_test, tX_test, ids_test = load_csv_data(DATA_TEST_PATH)"
   ]
  },
  {
   "cell_type": "code",
   "execution_count": null,
   "metadata": {},
   "outputs": [],
   "source": [
    "X_test_safe = tXToX(tX_test)"
   ]
  },
  {
   "cell_type": "code",
   "execution_count": 76,
   "metadata": {},
   "outputs": [],
   "source": [
    "compute_accuracy(np.sign(X_test_safe @ w_mse_l1), y_test)"
   ]
  },
  {
   "cell_type": "code",
   "execution_count": null,
   "metadata": {},
   "outputs": [],
   "source": [
    "OUTPUT_PATH = '../results/predictions.csv'\n",
    "y_pred = predict_labels(weights, tX_test)\n",
    "create_csv_submission(ids_test, y_pred, OUTPUT_PATH)"
   ]
  },
  {
   "cell_type": "code",
   "execution_count": null,
   "metadata": {},
   "outputs": [],
   "source": []
  }
 ],
 "metadata": {
  "anaconda-cloud": {},
  "kernelspec": {
   "display_name": "Python 3",
   "language": "python",
   "name": "python3"
  },
  "language_info": {
   "codemirror_mode": {
    "name": "ipython",
    "version": 3
   },
   "file_extension": ".py",
   "mimetype": "text/x-python",
   "name": "python",
   "nbconvert_exporter": "python",
   "pygments_lexer": "ipython3",
   "version": "3.7.3"
  }
 },
 "nbformat": 4,
 "nbformat_minor": 1
}
