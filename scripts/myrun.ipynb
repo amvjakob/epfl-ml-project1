{
 "cells": [
  {
   "cell_type": "code",
   "execution_count": 1,
   "metadata": {},
   "outputs": [],
   "source": [
    "# useful starting lines\n",
    "%matplotlib inline\n",
    "import numpy as np\n",
    "import matplotlib.pyplot as plt\n",
    "%load_ext autoreload\n",
    "%autoreload 2"
   ]
  },
  {
   "cell_type": "code",
   "execution_count": 3,
   "metadata": {},
   "outputs": [],
   "source": [
    "# import scripts\n",
    "from proj1_helpers import *\n",
    "from classifiers import *\n",
    "from solver import *\n",
    "from implementations import *\n",
    "from helpers import *\n",
    "from plotting import * "
   ]
  },
  {
   "cell_type": "markdown",
   "metadata": {},
   "source": [
    "## Open data"
   ]
  },
  {
   "cell_type": "code",
   "execution_count": 55,
   "metadata": {},
   "outputs": [],
   "source": [
    "# fetch train data\n",
    "DATA_TRAIN_PATH = '../data/train.csv'\n",
    "y, tX, ids, features = load_csv_data(DATA_TRAIN_PATH, sub_sample=False)\n",
    "X = tX"
   ]
  },
  {
   "cell_type": "code",
   "execution_count": 56,
   "metadata": {},
   "outputs": [
    {
     "name": "stdout",
     "output_type": "stream",
     "text": [
      "['DER_mass_MMC', 'DER_mass_transverse_met_lep', 'DER_mass_vis', 'DER_pt_h', 'DER_deltaeta_jet_jet', 'DER_mass_jet_jet', 'DER_prodeta_jet_jet', 'DER_deltar_tau_lep', 'DER_pt_tot', 'DER_sum_pt', 'DER_pt_ratio_lep_tau', 'DER_met_phi_centrality', 'DER_lep_eta_centrality', 'PRI_tau_pt', 'PRI_tau_eta', 'PRI_tau_phi', 'PRI_lep_pt', 'PRI_lep_eta', 'PRI_lep_phi', 'PRI_met', 'PRI_met_phi', 'PRI_met_sumet', 'PRI_jet_num', 'PRI_jet_leading_pt', 'PRI_jet_leading_eta', 'PRI_jet_leading_phi', 'PRI_jet_subleading_pt', 'PRI_jet_subleading_eta', 'PRI_jet_subleading_phi', 'PRI_jet_all_pt']\n"
     ]
    },
    {
     "data": {
      "text/plain": [
       "30"
      ]
     },
     "execution_count": 56,
     "metadata": {},
     "output_type": "execute_result"
    }
   ],
   "source": [
    "print(features)\n",
    "len(features)"
   ]
  },
  {
   "cell_type": "markdown",
   "metadata": {},
   "source": [
    "## Feature engineering"
   ]
  },
  {
   "cell_type": "code",
   "execution_count": 45,
   "metadata": {},
   "outputs": [],
   "source": [
    "# additive binarization of NaN values\n",
    "feats_binarization = ['DER_mass_mmc','DER_deltaeta_jet_jet','PRI_jet_leading_pt']\n",
    "\n",
    "# removing unnecessary features\n",
    "feats_removal = ['DER_deltaeta_jet_jet','DER_mass_jet_jet','DER_prodeta_jet_jet','DER_lep_eta_centrality',\n",
    "                 'PRI_jet_leading_pt','PRI_jet_leading_eta','PRI_jet_leading_phi','PRI_jet_subleading_pt',\n",
    "                 'PRI_jet_subleading_eta','PRI_jet_subleading_phi']"
   ]
  },
  {
   "cell_type": "markdown",
   "metadata": {},
   "source": [
    "### Handling case by case"
   ]
  },
  {
   "cell_type": "markdown",
   "metadata": {},
   "source": [
    "* A - base\n",
    "* B - base + offset + standardisation\n",
    "* C - base + offset + standardisation + NaN to median\n",
    "* D - base + offset + standardisation + additive binarization + removal of 10 NaN values + median for DER_mass_mmc\n",
    "* E - base + offset + standardisation + NaN to median + outliers to caps\n",
    "* F - Last model with bad optimization (without expansion)\n",
    "* G - Last model with optimization"
   ]
  },
  {
   "cell_type": "code",
   "execution_count": 51,
   "metadata": {},
   "outputs": [],
   "source": [
    "def cap_outliers(X):\n",
    "    \"\"\"\n",
    "    Caps outliers\n",
    "    \n",
    "    :param X: data\n",
    "    :return: capped data\n",
    "    \"\"\"\n",
    "    \n",
    "    lower = np.percentile(X, 5, axis=0)\n",
    "    upper = np.percentile(X, 95, axis=0)\n",
    "    \n",
    "    for column in range(a.shape[1]):\n",
    "        X[X[:,column] < lower[column], column] = lower[column]\n",
    "        X[X[:,column] > upper[column], column] = upper[column]\n",
    "\n",
    "    return X"
   ]
  },
  {
   "cell_type": "code",
   "execution_count": 63,
   "metadata": {},
   "outputs": [],
   "source": [
    "def split_data(X, y=None):\n",
    "    # features\n",
    "    undef_feature_for = {\n",
    "        'DER_deltaeta_jet_jet'   : [0, 1],\n",
    "        'DER_mass_jet_jet'       : [0, 1],\n",
    "        'DER_prodeta_jet_jet'    : [0, 1],\n",
    "        'DER_lep_eta_centrality' : [0, 1],\n",
    "        'PRI_jet_num'            : [0, 1, 2, 3],\n",
    "        'PRI_jet_leading_pt'     : [0],\n",
    "        'PRI_jet_leading_eta'    : [0],\n",
    "        'PRI_jet_leading_phi'    : [0],\n",
    "        'PRI_jet_subleading_pt'  : [0, 1],\n",
    "        'PRI_jet_subleading_eta' : [0, 1],\n",
    "        'PRI_jet_subleading_phi' : [0, 1],\n",
    "        'PRI_jet_all_pt'         : [0]\n",
    "    }\n",
    "\n",
    "    jet_num_feature = \"PRI_jet_num\"\n",
    "    jet_levels = 4\n",
    "\n",
    "    features_split = []\n",
    "    for jet in range(jet_levels):\n",
    "        valid_features = [ f for f in features if not ((f in undef_feature_for) and (jet in undef_feature_for[f])) ]\n",
    "        features_split.append(valid_features)\n",
    "        \n",
    "    # split data based on jet level (vertical split)\n",
    "    split_indices = [\n",
    "        X[:,features.index(jet_num_feature)] == i for i in range(jet_levels)\n",
    "    ]\n",
    "    X_split = [\n",
    "        X[X[:,features.index(jet_num_feature)] == i,:] for i in range(jet_levels)\n",
    "    ]\n",
    "    if y is None:\n",
    "        y_split = None\n",
    "    else:\n",
    "        y_split = [\n",
    "            y[X[:,features.index(jet_num_feature)] == i] for i in range(jet_levels)\n",
    "        ]\n",
    "\n",
    "    # only keep relevant features (horizontal split)\n",
    "    for i, X_ in enumerate(X_split):\n",
    "        indices = [ features.index(feature) for feature in features_split[i] ]\n",
    "        indices_bool = [ e in indices for e in range(len(features)) ]\n",
    "        X_split[i] = X_[:,indices_bool]\n",
    "        \n",
    "    return split_indices, X_split, y_split\n",
    "\n",
    "def build_poly_no_interaction(X, degree):\n",
    "    result = X.copy()\n",
    "    for d in range(2, degree+1):\n",
    "        # faster than np.power()\n",
    "        power = X.copy()\n",
    "        for i in range(d - 1):\n",
    "            power = power * X\n",
    "            \n",
    "        result = np.hstack((result, power))\n",
    "        \n",
    "    return result\n",
    "\n",
    "def build_X(X, d_int, d_sq):\n",
    "    \"\"\"\n",
    "    Expands X\n",
    "    \n",
    "    :param X: examples\n",
    "    :param d_int: degree of integer powers\n",
    "    :param d_sq: ceil of degree of half-powers (expansion will be up to d_sq - 0.5)\n",
    "    \n",
    "    \"\"\"\n",
    "    X_ = remove_NaN_features(X, 0.2)\n",
    "    X_, mean_, std_ = standardize(X_)\n",
    "    \n",
    "    ints = []\n",
    "    sqrts = []\n",
    "    \n",
    "    # build integer powers\n",
    "    if d_int > 0:\n",
    "        ints = build_poly_no_interaction(X_, d_int)\n",
    "      \n",
    "    # build half-powers (0.5, 1.5, 2.5, etc.)\n",
    "    if d_sq > 0:\n",
    "        sqrts = np.sqrt(np.abs(X_))\n",
    "        if d_sq > 1:\n",
    "            width = sqrts.shape[1]\n",
    "            int_power = np.abs(build_poly_no_interaction(X_, d_sq - 1))\n",
    "            \n",
    "            half_power = sqrts.copy()\n",
    "            for i in range(d_sq - 1):\n",
    "                half_power = np.hstack((half_power, sqrts * int_power[:,(width*i):(width*(i+1))]))\n",
    "                \n",
    "            sqrts = np.hstack((sqrts, half_power))\n",
    "\n",
    "    # concat\n",
    "    X_ = np.hstack((ints, sqrts))\n",
    "    return X_"
   ]
  },
  {
   "cell_type": "code",
   "execution_count": 122,
   "metadata": {},
   "outputs": [],
   "source": [
    "# handling case A\n",
    "X_A = X.copy()\n",
    "\n",
    "# handling case B\n",
    "X_B, _, _ = standardize(X_A)\n",
    "X_B = np.c_[np.ones(len(y)), X_B]\n",
    "\n",
    "# handling case C\n",
    "X_C = X.copy()\n",
    "X_C = replace_NaN_by_median(X_C)\n",
    "X_C, _, _ = standardize(X_C)\n",
    "X_C = np.c_[np.ones(len(y)), X_C]\n",
    "\n",
    "# handling case D\n",
    "X_D = X.copy()\n",
    "features_D = features.copy()\n",
    "X_D, features_D = binarize_undefined(X_D, features_D, feats_binarization)\n",
    "X_D, features_D = remove_features(X_D, features_D, feats_removal)\n",
    "X_D = replace_NaN_by_median(X_D) # only for DER_mass_mmc\n",
    "X_D, _, _ = standardize(X_D)\n",
    "X_D = np.c_[np.ones(len(y)), X_D]\n",
    "\n",
    "# handling case E\n",
    "X_E = X.copy()\n",
    "X_E = cap_outliers(X_E)\n",
    "X_E, _ , _ = standardize(X_E)\n",
    "X_E = np.c_[np.ones(len(y)), X_E]\n",
    "\n",
    "# handling case F\n",
    "X_F = X.copy()\n",
    "_, X_F_split, y_F_split = split_data(X_F, y)\n",
    "lambda_F = 0.0001\n",
    "X_F_split_poly = X_F_split.copy()\n",
    "\n",
    "# handling case G\n",
    "X_G_split_poly = [ build_X(X, 2, 1) for X in X_F_split ]\n",
    "\n",
    "# handling case H\n",
    "X_H_split_poly = [ build_X(X, 11, 3) for X in X_F_split ]\n",
    "lambda_H = 1.830311675620613 * 1/pow(10,8)"
   ]
  },
  {
   "cell_type": "markdown",
   "metadata": {},
   "source": [
    "## Fit and predict"
   ]
  },
  {
   "cell_type": "code",
   "execution_count": 141,
   "metadata": {},
   "outputs": [],
   "source": [
    "# choice of classifier\n",
    "classifier = LeastSquares()\n",
    "\n",
    "accuracy_A = cross_validate(y, X_A, classifier, 0.7, 100)\n",
    "accuracy_B = cross_validate(y, X_B, classifier, 0.7, 100)\n",
    "accuracy_C = cross_validate(y, X_C, classifier, 0.7, 100)\n",
    "accuracy_D = cross_validate(y, X_D, classifier, 0.7, 100)\n",
    "accuracy_E = cross_validate(y, X_E, classifier, 0.7, 100)\n",
    "\n",
    "\n",
    "accuracy_F = []\n",
    "for i in range(len(X_F_split_poly)):\n",
    "    classifier_F = LeastSquaresL2(lambda_F)\n",
    "    acc = np.mean(cross_validate(y_F_split[i], X_F_split_poly[i], classifier_F, 0.7, 100))\n",
    "    accuracy_F.append(acc)\n",
    "\n",
    "accuracy_G = []\n",
    "for i in range(len(X_G_split_poly)):\n",
    "    classifier_G = LeastSquaresL2(lambda_F)\n",
    "    acc = np.mean(cross_validate(y_F_split[i], X_G_split_poly[i], classifier_G, 0.7, 100))\n",
    "    accuracy_G.append(acc)\n",
    "    \n",
    "    \n",
    "accuracy_H = []\n",
    "for i in range(len(X_G_split_poly)):\n",
    "    classifier_H = LeastSquaresL2(lambda_H)\n",
    "    acc = np.mean(cross_validate(y_F_split[i], X_H_split_poly[i], classifier_H, 0.7, 100))\n",
    "    accuracy_H.append(acc)\n",
    "    \n",
    "accuracy = [list(accuracy_A), list(accuracy_B), list(accuracy_C), list(accuracy_D),\n",
    "            list(accuracy_E), accuracy_F, accuracy_G, accuracy_H]"
   ]
  },
  {
   "cell_type": "markdown",
   "metadata": {},
   "source": [
    "### Boxplot visualisation"
   ]
  },
  {
   "cell_type": "code",
   "execution_count": 149,
   "metadata": {},
   "outputs": [],
   "source": [
    "accuracy_D = [a for a in accuracy_D if a > 0.7]\n",
    "\n",
    "accuracy = [list(accuracy_A), list(accuracy_B), list(accuracy_C), list(accuracy_D),\n",
    "            list(accuracy_E), accuracy_F, accuracy_G, accuracy_H]\n",
    "\n",
    "acc = accuracy.copy()\n",
    "\n",
    "acc = [[a * 100 for a in ac] for ac in acc]"
   ]
  },
  {
   "cell_type": "code",
   "execution_count": 152,
   "metadata": {},
   "outputs": [
    {
     "data": {
      "image/png": "[encoded data removed]",
      "text/plain": [
       "<Figure size 518.4x320.4 with 1 Axes>"
      ]
     },
     "metadata": {
      "needs_background": "light"
     },
     "output_type": "display_data"
    }
   ],
   "source": [
    "from plotting import *\n",
    "\n",
    "boxplot_models(acc, save=True)"
   ]
  },
  {
   "cell_type": "code",
   "execution_count": null,
   "metadata": {},
   "outputs": [],
   "source": []
  }
 ],
 "metadata": {
  "kernelspec": {
   "display_name": "Python 3",
   "language": "python",
   "name": "python3"
  },
  "language_info": {
   "codemirror_mode": {
    "name": "ipython",
    "version": 3
   },
   "file_extension": ".py",
   "mimetype": "text/x-python",
   "name": "python",
   "nbconvert_exporter": "python",
   "pygments_lexer": "ipython3",
   "version": "3.7.3"
  }
 },
 "nbformat": 4,
 "nbformat_minor": 2
}
