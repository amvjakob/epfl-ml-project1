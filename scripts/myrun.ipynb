{
 "cells": [
  {
   "cell_type": "code",
   "execution_count": 6,
   "metadata": {},
   "outputs": [],
   "source": [
    "# useful starting lines\n",
    "%matplotlib inline\n",
    "import numpy as np\n",
    "import matplotlib.pyplot as plt\n",
    "%load_ext autoreload\n",
    "%autoreload 2"
   ]
  },
  {
   "cell_type": "code",
   "execution_count": 7,
   "metadata": {},
   "outputs": [],
   "source": [
    "# import scripts\n",
    "from proj1_helpers import *\n",
    "from classifiers import *\n",
    "from solver import *\n",
    "from implementations import *"
   ]
  },
  {
   "cell_type": "markdown",
   "metadata": {},
   "source": [
    "## Open data"
   ]
  },
  {
   "cell_type": "code",
   "execution_count": 18,
   "metadata": {},
   "outputs": [],
   "source": [
    "# fetch train data\n",
    "DATA_TRAIN_PATH = '../data/train.csv'\n",
    "y, tX, ids, features = load_csv_data(DATA_TRAIN_PATH, sub_sample=False)\n",
    "X = tX"
   ]
  },
  {
   "cell_type": "code",
   "execution_count": 19,
   "metadata": {},
   "outputs": [
    {
     "name": "stdout",
     "output_type": "stream",
     "text": [
      "['DER_mass_MMC', 'DER_mass_transverse_met_lep', 'DER_mass_vis', 'DER_pt_h', 'DER_deltaeta_jet_jet', 'DER_mass_jet_jet', 'DER_prodeta_jet_jet', 'DER_deltar_tau_lep', 'DER_pt_tot', 'DER_sum_pt', 'DER_pt_ratio_lep_tau', 'DER_met_phi_centrality', 'DER_lep_eta_centrality', 'PRI_tau_pt', 'PRI_tau_eta', 'PRI_tau_phi', 'PRI_lep_pt', 'PRI_lep_eta', 'PRI_lep_phi', 'PRI_met', 'PRI_met_phi', 'PRI_met_sumet', 'PRI_jet_num', 'PRI_jet_leading_pt', 'PRI_jet_leading_eta', 'PRI_jet_leading_phi', 'PRI_jet_subleading_pt', 'PRI_jet_subleading_eta', 'PRI_jet_subleading_phi', 'PRI_jet_all_pt']\n"
     ]
    }
   ],
   "source": [
    "print(features)"
   ]
  },
  {
   "cell_type": "markdown",
   "metadata": {},
   "source": [
    "## Feature engineering"
   ]
  },
  {
   "cell_type": "code",
   "execution_count": null,
   "metadata": {},
   "outputs": [],
   "source": [
    "# additive binarization of NaN values\n",
    "feats_binarization = ['DER_mass_mmc','DER_deltaeta_jet_jet','PRI_jet_leading_pt']\n",
    "\n",
    "# removing unnecessary features\n",
    "feats_removal = ['DER_deltaeta_jet_jet','DER_mass_jet_jet','DER_prodeta_jet_jet','DER_lep_eta_centrality',\n",
    "                 'PRI_jet_leading_pt','PRI_jet_leading_eta','PRI_jet_leading_phi','PRI_jet_subleading_pt',\n",
    "                 'PRI_jet_subleading_eta','PRI_jet_subleading_phi']"
   ]
  },
  {
   "cell_type": "markdown",
   "metadata": {},
   "source": [
    "### Handling case by case"
   ]
  },
  {
   "cell_type": "code",
   "execution_count": 20,
   "metadata": {},
   "outputs": [
    {
     "name": "stdout",
     "output_type": "stream",
     "text": [
      "Features removed:\n",
      "DER_deltaeta_jet_jet\n",
      "DER_mass_jet_jet\n",
      "DER_prodeta_jet_jet\n",
      "DER_lep_eta_centrality\n",
      "PRI_jet_leading_pt\n",
      "PRI_jet_leading_eta\n",
      "PRI_jet_leading_phi\n",
      "PRI_jet_subleading_pt\n",
      "PRI_jet_subleading_eta\n",
      "PRI_jet_subleading_phi\n",
      "Features removed:\n",
      "DER_deltaeta_jet_jet\n",
      "DER_mass_jet_jet\n",
      "DER_prodeta_jet_jet\n",
      "DER_lep_eta_centrality\n",
      "PRI_jet_leading_pt\n",
      "PRI_jet_leading_eta\n",
      "PRI_jet_leading_phi\n",
      "PRI_jet_subleading_pt\n",
      "PRI_jet_subleading_eta\n",
      "PRI_jet_subleading_phi\n"
     ]
    }
   ],
   "source": [
    "# handling case A\n",
    "X_A = X\n",
    "\n",
    "# handling case B\n",
    "X_B, mean_B, std_B = standardize(X_A)\n",
    "X_B = np.c_[np.ones(len(y)), X_B]\n",
    "\n",
    "# handling case C\n",
    "X_C = replace_NaN_by_median(X)\n",
    "X_C, mean_C, std_C = standardize(X_C)\n",
    "X_C = np.c_[np.ones(len(y)), X_C]\n",
    "\n",
    "# handling case D\n",
    "X_D, features_D = binarize_undefined(X, features, feats_binarization)\n",
    "X_D, features_D = remove_features(X_D, features_D, feats_removal)\n",
    "X_D = replace_NaN_by_median(X) # only for DER_mass_mmc\n",
    "X_D, mean_D, std_D = standardize(X_D)\n",
    "X_D = np.c_[np.ones(len(y)), X_D]\n",
    "\n",
    "# handling case E\n",
    "X_E = X\n",
    "\n",
    "# handling case F\n",
    "X_F = X\n",
    "\n",
    "# handling case G\n",
    "X_G = X\n"
   ]
  },
  {
   "cell_type": "markdown",
   "metadata": {},
   "source": [
    "## Fit and predict"
   ]
  },
  {
   "cell_type": "markdown",
   "metadata": {},
   "source": [
    "* A - base\n",
    "* B - A + offset + standardisation\n",
    "* C - B + NaN to median\n",
    "* D - B + additive binarization + removal of 10 NaN values + median for DER_mass_mmc\n",
    "* E - C or D + decision tree\n",
    "* F - E + feature augmentation (L2 Kernels)\n",
    "* G - E + feature augmentation (L1 polynomial manually coded)"
   ]
  },
  {
   "cell_type": "code",
   "execution_count": 22,
   "metadata": {},
   "outputs": [],
   "source": [
    "# choice of classifier\n",
    "classifier = LogisticRegression()\n",
    "\n",
    "accuracy_A = cross_validate(y, X_A, classifier, 0.8, 10)\n",
    "accuracy_B = cross_validate(y, X_B, classifier, 0.8, 10)\n",
    "accuracy_C = cross_validate(y, X_C, classifier, 0.8, 10)\n",
    "accuracy_D = cross_validate(y, X_D, classifier, 0.8, 10)\n",
    "accuracy_E = cross_validate(y, X_E, classifier, 0.8, 10)\n",
    "accuracy_F = cross_validate(y, X_F, classifier, 0.8, 10)\n",
    "accuracy_G = cross_validate(y, X_G, classifier, 0.8, 10)\n",
    "\n",
    "accuracy = [accuracy_A, accuracy_B, accuracy_C, accuracy_D,\n",
    "            accuracy_E, accuracy_F, accuracy_G]"
   ]
  },
  {
   "cell_type": "markdown",
   "metadata": {},
   "source": [
    "### Boxplot visualisation"
   ]
  },
  {
   "cell_type": "code",
   "execution_count": 23,
   "metadata": {},
   "outputs": [
    {
     "data": {
      "text/plain": [
       "{'whiskers': [<matplotlib.lines.Line2D at 0x11920d630>,\n",
       "  <matplotlib.lines.Line2D at 0x11920d978>,\n",
       "  <matplotlib.lines.Line2D at 0x119215d68>,\n",
       "  <matplotlib.lines.Line2D at 0x119215e48>,\n",
       "  <matplotlib.lines.Line2D at 0x11924a4e0>,\n",
       "  <matplotlib.lines.Line2D at 0x11924a828>,\n",
       "  <matplotlib.lines.Line2D at 0x119257c18>,\n",
       "  <matplotlib.lines.Line2D at 0x119257f60>],\n",
       " 'caps': [<matplotlib.lines.Line2D at 0x11920dcc0>,\n",
       "  <matplotlib.lines.Line2D at 0x11920dda0>,\n",
       "  <matplotlib.lines.Line2D at 0x119220438>,\n",
       "  <matplotlib.lines.Line2D at 0x119220780>,\n",
       "  <matplotlib.lines.Line2D at 0x11924ab70>,\n",
       "  <matplotlib.lines.Line2D at 0x11924aeb8>,\n",
       "  <matplotlib.lines.Line2D at 0x119257ef0>,\n",
       "  <matplotlib.lines.Line2D at 0x119262630>],\n",
       " 'boxes': [<matplotlib.lines.Line2D at 0x11920d208>,\n",
       "  <matplotlib.lines.Line2D at 0x119215a20>,\n",
       "  <matplotlib.lines.Line2D at 0x119220eb8>,\n",
       "  <matplotlib.lines.Line2D at 0x1192578d0>],\n",
       " 'medians': [<matplotlib.lines.Line2D at 0x119215390>,\n",
       "  <matplotlib.lines.Line2D at 0x119220ac8>,\n",
       "  <matplotlib.lines.Line2D at 0x11924af98>,\n",
       "  <matplotlib.lines.Line2D at 0x119262978>],\n",
       " 'fliers': [<matplotlib.lines.Line2D at 0x1192156d8>,\n",
       "  <matplotlib.lines.Line2D at 0x119220e10>,\n",
       "  <matplotlib.lines.Line2D at 0x119257588>,\n",
       "  <matplotlib.lines.Line2D at 0x119262cc0>],\n",
       " 'means': []}"
      ]
     },
     "execution_count": 23,
     "metadata": {},
     "output_type": "execute_result"
    },
    {
     "data": {
      "image/png": "[encoded data removed]",
      "text/plain": [
       "<Figure size 432x288 with 1 Axes>"
      ]
     },
     "metadata": {
      "needs_background": "light"
     },
     "output_type": "display_data"
    }
   ],
   "source": [
    "plt.boxplot(accuracy, vert=False, labels=['A','B','C','D','E','F','G'])"
   ]
  },
  {
   "cell_type": "code",
   "execution_count": null,
   "metadata": {},
   "outputs": [],
   "source": []
  }
 ],
 "metadata": {
  "kernelspec": {
   "display_name": "Python [conda env:root] *",
   "language": "python",
   "name": "conda-root-py"
  },
  "language_info": {
   "codemirror_mode": {
    "name": "ipython",
    "version": 3
   },
   "file_extension": ".py",
   "mimetype": "text/x-python",
   "name": "python",
   "nbconvert_exporter": "python",
   "pygments_lexer": "ipython3",
   "version": "3.7.3"
  }
 },
 "nbformat": 4,
 "nbformat_minor": 2
}
