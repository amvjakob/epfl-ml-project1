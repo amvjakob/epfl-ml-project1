{
 "cells": [
  {
   "cell_type": "code",
   "execution_count": null,
   "metadata": {},
   "outputs": [],
   "source": [
    "# Useful starting lines\n",
    "%matplotlib inline\n",
    "import numpy as np\n",
    "import matplotlib.pyplot as plt\n",
    "%load_ext autoreload\n",
    "%autoreload 2"
   ]
  },
  {
   "cell_type": "markdown",
   "metadata": {},
   "source": [
    "## Load the training data into feature matrix, class labels, and event ids:"
   ]
  },
  {
   "cell_type": "code",
   "execution_count": null,
   "metadata": {},
   "outputs": [],
   "source": [
    "from implementations import *\n",
    "from dataprocessing import *\n",
    "from classifiers import *"
   ]
  },
  {
   "cell_type": "code",
   "execution_count": null,
   "metadata": {
    "scrolled": true
   },
   "outputs": [],
   "source": [
    "from proj1_helpers import *\n",
    "\n",
    "DATA_TRAIN_PATH = '../data/train.csv'\n",
    "y, tX, ids, features = load_csv_data(DATA_TRAIN_PATH, sub_sample=False)"
   ]
  },
  {
   "cell_type": "markdown",
   "metadata": {},
   "source": [
    "## Split data"
   ]
  },
  {
   "cell_type": "code",
   "execution_count": null,
   "metadata": {},
   "outputs": [],
   "source": [
    "indices_split, X_split, y_split = split_data(features, tX, y)"
   ]
  },
  {
   "cell_type": "markdown",
   "metadata": {},
   "source": [
    "## Standardize data"
   ]
  },
  {
   "cell_type": "code",
   "execution_count": null,
   "metadata": {},
   "outputs": [],
   "source": [
    "X_split_std, mean_split, std_split = [], [], []\n",
    "for X in X_split: \n",
    "    # remove features with more than 20% of NaN and standardize\n",
    "    X_std, mean_std, std_std = standardize(remove_NaN_features(X, 0.2))\n",
    "    \n",
    "    X_split_std.append(X_std)\n",
    "    mean_split.append(mean_std)\n",
    "    std_split.append(std_std)"
   ]
  },
  {
   "cell_type": "markdown",
   "metadata": {},
   "source": [
    "## Test different models"
   ]
  },
  {
   "cell_type": "code",
   "execution_count": null,
   "metadata": {},
   "outputs": [],
   "source": [
    "# try different models\n",
    "X_split_poly = [ build_X(X, 10, 5) for X in X_split_std ]\n",
    "lambda_ = 1e-8\n",
    "k = 5\n",
    "\n",
    "models_try = [\n",
    "    LeastSquaresL2(lambda_),\n",
    "    LeastSquaresL1(lambda_, verbose=True, max_evaluations=500),\n",
    "    LogisticRegression(),\n",
    "    LogisticRegressionL2(lambda_),\n",
    "    LogisticRegressionL1(lambda_, verbose=True, max_evaluations=500),\n",
    "]\n",
    "\n",
    "total_accs = []\n",
    "\n",
    "for model in models_try:\n",
    "    \n",
    "    accuracies = []\n",
    "    # iterate over 4 sub datasets\n",
    "    for i in range(len(X_split_poly)):\n",
    "        acc = np.mean(cross_validate_kfold(y_split[i], X_split_poly[i], model, k))\n",
    "        accuracies.append(acc)\n",
    "        \n",
    "    # compute mean (weighted)\n",
    "    accuracy = 0\n",
    "    for i, acc in enumerate(accuracies):\n",
    "        accuracy += acc * len(y_split[i])\n",
    "    accuracy /= len(y) \n",
    "    \n",
    "    total_accs.append(accuracy)\n",
    "\n",
    "x_axis = range(len(models_try))\n",
    "plt.xticks(x_axis, [\"LS L2\", \"LS L1\", \"LogReg\", \"LogReg L2\", \"LogReg L1\"])\n",
    "plt.plot(x_axis, total_accs)\n",
    "plt.show()"
   ]
  },
  {
   "cell_type": "markdown",
   "metadata": {},
   "source": [
    "## Grid search for rough estimate of best integer power, best half power and best lambda"
   ]
  },
  {
   "cell_type": "code",
   "execution_count": null,
   "metadata": {},
   "outputs": [],
   "source": [
    "# find best lambda_ or degree\n",
    "d_ints = range(7, 11)\n",
    "d_sqs = range(2, 6)\n",
    "lambdas = [ math.pow(10, c) for c in np.linspace(-13,-7,10) ]\n",
    "\n",
    "max_train = 0\n",
    "max_train_d_int = 0\n",
    "max_train_d_sq = 0\n",
    "max_train_d_lambda = 0\n",
    "\n",
    "for d_int in d_ints:\n",
    "    for d_sq in d_sqs:\n",
    "        # build expanded dataset\n",
    "        X_split_poly = [ build_X(X, d_int, d_sq) for X in X_split_std ]\n",
    "        \n",
    "        for lambda_ in lambdas:\n",
    "            \n",
    "            models = []\n",
    "            y_pred = np.ones(tX.shape[0])\n",
    "\n",
    "            # train and test submodels\n",
    "            for i in range(len(X_split_poly)):\n",
    "                lse = LeastSquaresL2(lambda_)\n",
    "                lse.fit(y_split[i], X_split_poly[i])\n",
    "                models.append(lse)\n",
    "                y_pred[indices_split[i]] = lse.predict(X_split_poly[i])\n",
    "\n",
    "            acc_train = np.mean(y == y_pred)\n",
    "            if acc_train > max_train:\n",
    "                max_train = acc_train\n",
    "                max_train_d_int = d_int\n",
    "                max_train_d_sq = d_sq\n",
    "                max_train_d_lambda = lambda_\n",
    "            \n",
    "            print(f\"d_int={d_int}, d_sq={d_sq}, lambda_={lambda_} - train={acc_train}\")\n",
    "            "
   ]
  },
  {
   "cell_type": "markdown",
   "metadata": {},
   "source": [
    "## Cross-validation to optimize the hyper-parameter lambda"
   ]
  },
  {
   "cell_type": "code",
   "execution_count": null,
   "metadata": {},
   "outputs": [],
   "source": [
    "# cross-validate to optimize lambda_\n",
    "total_acc = []\n",
    "k = 10\n",
    "lambdas = [ math.pow(10, c) for c in np.linspace(-12,-11,100) ]\n",
    "d_int = 10\n",
    "d_sq = 5\n",
    "\n",
    "X_split_poly = [ build_X(X, d_int, d_sq) for X in X_split_std ]\n",
    "\n",
    "for lambda_ in lambdas:\n",
    "    print(f\"lambda={lambda_}\", end=\" - \")\n",
    "    \n",
    "    accuracies = []\n",
    "    \n",
    "    # iterate over 4 sub datasets\n",
    "    for i in range(len(X_split_poly)):\n",
    "        classifier = LeastSquaresL2(lambda_)\n",
    "        acc = np.mean(cross_validate_kfold(y_split[i], X_split_poly[i], classifier, k))\n",
    "        accuracies.append(acc)\n",
    "        \n",
    "    # compute mean (weighted)\n",
    "    accuracy = 0\n",
    "    for i, acc in enumerate(accuracies):\n",
    "        accuracy += acc * len(y_split[i])\n",
    "    accuracy /= len(y)\n",
    "        \n",
    "    print(accuracy)\n",
    "    total_acc.append(accuracy)\n",
    "    \n",
    "# plot best lambdas\n",
    "plt.plot(lambdas, total_acc)"
   ]
  },
  {
   "cell_type": "code",
   "execution_count": null,
   "metadata": {},
   "outputs": [],
   "source": [
    "# pick set of top lambdas and make predictions\n",
    "best_lambdas = [ lambdas[index] for index in np.argpartition(total_acc, -15)[-15:] ]\n",
    "best_lambda = best_lambdas[0]"
   ]
  },
  {
   "cell_type": "markdown",
   "metadata": {},
   "source": [
    "## Train final model"
   ]
  },
  {
   "cell_type": "code",
   "execution_count": null,
   "metadata": {},
   "outputs": [],
   "source": [
    "# train actual models\n",
    "\n",
    "best_lambda = 3.5938136638046255e-12\n",
    "best_deg_int = 10\n",
    "best_deg_sq = 5\n",
    "\n",
    "def model_split_data(X):\n",
    "    return build_X(X, best_deg_int, best_deg_sq)\n",
    "\n",
    "X_split_poly = [ model_split_data(X) for X in X_split_std ]\n",
    "lambda_ = best_lambda\n",
    "models = []\n",
    "y_pred = np.ones(tX.shape[0])\n",
    "\n",
    "for i in range(len(X_split_poly)):\n",
    "    print(f\"Building model for dataset {i}\")\n",
    "    lse = LeastSquaresL2(lambda_)\n",
    "    lse.fit(y_split[i], X_split_poly[i])\n",
    "    models.append(lse)\n",
    "    y_pred[indices_split[i]] = lse.predict(X_split_poly[i])\n",
    "    \n",
    "print(np.mean(y == y_pred))"
   ]
  },
  {
   "cell_type": "markdown",
   "metadata": {},
   "source": [
    "## Try basic methods"
   ]
  },
  {
   "cell_type": "code",
   "execution_count": null,
   "metadata": {},
   "outputs": [],
   "source": [
    "X = remove_NaN_features(tX, 0.2)\n",
    "X = replace_NaN_by_median(X)\n",
    "X, _, _ = standardize(X)"
   ]
  },
  {
   "cell_type": "code",
   "execution_count": null,
   "metadata": {},
   "outputs": [],
   "source": [
    "w_lse, _ = least_squares(y, X)\n",
    "accuracy_lse = compute_accuracy(predict_labels(w_lse, X), y)\n",
    "print(accuracy_lse)"
   ]
  },
  {
   "cell_type": "code",
   "execution_count": null,
   "metadata": {},
   "outputs": [],
   "source": [
    "w_lse_gd, _ = least_squares_GD(y, X, np.zeros(X.shape[1]), 600, 0.005)\n",
    "accuracy_lse_gd = compute_accuracy(predict_labels(w_lse_gd, X), y)\n",
    "print(accuracy_lse_gd)"
   ]
  },
  {
   "cell_type": "code",
   "execution_count": null,
   "metadata": {},
   "outputs": [],
   "source": [
    "w_lse_sgd, _ = least_squares_SGD(y, X, np.zeros(X.shape[1]), 40000, 0.0001)\n",
    "accuracy_lse_sgd = compute_accuracy(predict_labels(w_lse_sgd, X), y)\n",
    "print(accuracy_lse_sgd)"
   ]
  },
  {
   "cell_type": "code",
   "execution_count": null,
   "metadata": {},
   "outputs": [],
   "source": [
    "w_ridge, _ = ridge_regression(y, X, 0.001)\n",
    "accuracy_ridge = compute_accuracy(predict_labels(w_ridge, X), y)\n",
    "print(accuracy_ridge)"
   ]
  },
  {
   "cell_type": "code",
   "execution_count": null,
   "metadata": {},
   "outputs": [],
   "source": [
    "w_log_reg, _ = logistic_regression(y, X, np.zeros(X.shape[1]), 1000, 0.01)\n",
    "accuracy_log_reg = compute_accuracy(predict_labels(w_log_reg, X), y)\n",
    "print(accuracy_log_reg)"
   ]
  },
  {
   "cell_type": "code",
   "execution_count": null,
   "metadata": {},
   "outputs": [],
   "source": [
    "w_reg_log_reg, _ = reg_logistic_regression(y, X, 0.01, np.zeros(X.shape[1]), 1000, 0.01)\n",
    "accuracy_reg_log_reg = compute_accuracy(predict_labels(w_reg_log_reg, X), y)\n",
    "print(accuracy_reg_log_reg)"
   ]
  },
  {
   "cell_type": "markdown",
   "metadata": {},
   "source": [
    "## Generate predictions and save ouput in csv format for submission:"
   ]
  },
  {
   "cell_type": "code",
   "execution_count": null,
   "metadata": {},
   "outputs": [],
   "source": [
    "DATA_TEST_PATH = '../data/test.csv'\n",
    "_, tX_test, ids_test, _ = load_csv_data(DATA_TEST_PATH)"
   ]
  },
  {
   "cell_type": "code",
   "execution_count": null,
   "metadata": {},
   "outputs": [],
   "source": [
    "# split\n",
    "test_split_indices, X_test_split, _ = split_data(features, tX_test)"
   ]
  },
  {
   "cell_type": "code",
   "execution_count": null,
   "metadata": {},
   "outputs": [],
   "source": [
    "X_test_split_std = []\n",
    "for X, mean, std in zip(X_test_split, mean_split, std_split): \n",
    "    # remove features with more than 20% of NaN and standardize\n",
    "    X_test_std, _, _ = standardize(remove_NaN_features(X, 0.2), mean, std)\n",
    "    \n",
    "    X_test_split_std.append(X_test_std)"
   ]
  },
  {
   "cell_type": "code",
   "execution_count": null,
   "metadata": {},
   "outputs": [],
   "source": [
    "# predictions using new model\n",
    "X_test_split_poly = [ model_split_data(X) for X in X_test_split_std ]\n",
    "y_pred = np.ones(tX_test.shape[0])\n",
    "\n",
    "for model, X, indices in zip(models, X_test_split_poly, test_split_indices):\n",
    "    y_pred[indices] = model.predict(X)"
   ]
  },
  {
   "cell_type": "code",
   "execution_count": null,
   "metadata": {},
   "outputs": [],
   "source": [
    "OUTPUT_PATH = '../results/predictions.csv'\n",
    "create_csv_submission(ids_test, y_pred, OUTPUT_PATH)"
   ]
  }
 ],
 "metadata": {
  "anaconda-cloud": {},
  "kernelspec": {
   "display_name": "Python 3",
   "language": "python",
   "name": "python3"
  },
  "language_info": {
   "codemirror_mode": {
    "name": "ipython",
    "version": 3
   },
   "file_extension": ".py",
   "mimetype": "text/x-python",
   "name": "python",
   "nbconvert_exporter": "python",
   "pygments_lexer": "ipython3",
   "version": "3.7.3"
  }
 },
 "nbformat": 4,
 "nbformat_minor": 1
}
