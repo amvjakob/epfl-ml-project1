{
 "cells": [
  {
   "cell_type": "code",
   "execution_count": 3,
   "metadata": {},
   "outputs": [
    {
     "name": "stdout",
     "output_type": "stream",
     "text": [
      "The autoreload extension is already loaded. To reload it, use:\n",
      "  %reload_ext autoreload\n"
     ]
    }
   ],
   "source": [
    "# Useful starting lines\n",
    "%matplotlib inline\n",
    "import numpy as np\n",
    "import matplotlib.pyplot as plt\n",
    "%load_ext autoreload\n",
    "%autoreload 2\n",
    "\n",
    "# Import scripts\n",
    "from proj1_helpers import *\n",
    "from classifiers import *\n",
    "from solver import *\n",
    "from implementations import *"
   ]
  },
  {
   "cell_type": "code",
   "execution_count": 5,
   "metadata": {},
   "outputs": [],
   "source": [
    "# Preferences for plots\n",
    "import matplotlib\n",
    "matplotlib.rcParams['figure.figsize'] = (7.2,4.45)\n",
    "matplotlib.rcParams['axes.labelsize'] = 17\n",
    "matplotlib.rcParams['axes.titlesize'] = 16\n",
    "matplotlib.rcParams['xtick.labelsize'] = 16\n",
    "matplotlib.rcParams['ytick.labelsize'] = 16\n",
    "matplotlib.rcParams['font.size'] = 15\n",
    "matplotlib.rcParams['font.family'] = 'serif'\n",
    "matplotlib.rcParams['figure.autolayout'] =  True\n",
    "matplotlib.rcParams['mathtext.fontset'] = 'stix'\n",
    "\n",
    "#If you wanna reset parameters\n",
    "#matplotlib.rcParams.update(matplotlib.rcParamsDefault)"
   ]
  },
  {
   "cell_type": "code",
   "execution_count": 6,
   "metadata": {},
   "outputs": [],
   "source": [
    "# fetch train data\n",
    "DATA_TRAIN_PATH = '../data/train.csv'\n",
    "y, tX, ids, features = load_csv_data(DATA_TRAIN_PATH, sub_sample=False)\n",
    "X = tX\n",
    "\n",
    "#Percentage of outliers per features\n",
    "perc = (X[:, :] <= -999.0).sum(axis=0) / X.shape[0] * 100"
   ]
  },
  {
   "cell_type": "code",
   "execution_count": 7,
   "metadata": {},
   "outputs": [],
   "source": [
    "from sklearn.decomposition import PCA\n",
    "\n",
    "def pca_axes(pcs,X_train,scale,scale2, verbose=False):\n",
    "    \n",
    "    pca = PCA(n_components=2)\n",
    "    principalComponents = pca.fit_transform(X_train)\n",
    "    print('Explained variance', pca.explained_variance_ratio_)\n",
    "\n",
    "    pcs = pca.components_\n",
    "\n",
    "    colors = np.arctan2(pcs[0,:], pcs[1,:])\n",
    "    colormap = cm.inferno\n",
    "    norm = Normalize()\n",
    "    norm.autoscale(colors)\n",
    "    plt.rcParams['image.cmap'] = 'Paired'\n",
    "\n",
    "    # Quiver\n",
    "    f = plt.figure(figsize=(10,10))\n",
    "    plt.quiver(np.zeros(pcs.shape[1]), np.zeros(pcs.shape[1]),\n",
    "           pcs[0,:], pcs[1,:], color=colormap(norm(colors)),\n",
    "           angles='xy', scale_units='xy', scale=scale)\n",
    "    \n",
    "    for i in range(0,pcs.shape[1]):\n",
    "        if i==3:\n",
    "            plt.text(pcs[0,i]* scale2, pcs[1,i]*scale2-0.02, X.columns[i], color = 'k', \n",
    "             ha = 'center', va = 'center', fontsize=13, weight='bold')\n",
    "        elif i==12:\n",
    "            plt.text(pcs[0,i]* scale2, pcs[1,i]*scale2-0.03, X.columns[i], color = 'k', \n",
    "             ha = 'center', va = 'center', fontsize=13, weight='bold')\n",
    "        elif i==1:\n",
    "            plt.text(pcs[0,i]* scale2-0.03, pcs[1,i]*scale2, X.columns[i], color = 'k', \n",
    "             ha = 'center', va = 'center', fontsize=13, weight='bold')\n",
    "        elif np.power(pcs[0,i]-pcs[1,i], 2)<0.001:\n",
    "            plt.text(0, 0-o, ' ', color = 'k', \n",
    "             ha = 'center', va = 'center', fontsize=13, weight='bold')\n",
    "        else:\n",
    "            plt.text(pcs[0,i]* scale2, pcs[1,i] *scale2, X.columns[i], color = 'k', \n",
    "             ha = 'center', va = 'center', fontsize=13, weight='bold')\n",
    "\n",
    "    plt.xlim([-0.5,0.7])\n",
    "    plt.ylim([-0.3,0.6])\n",
    "    plt.xlabel('Principal component 0')\n",
    "    plt.ylabel('Principal component 1')\n",
    "    f.tight_layout(rect=[0, 0.03, 1, 0.95])\n",
    "    f.savefig(\"image1.pdf\", bbox_inches='tight')\n",
    "        \n",
    "    return"
   ]
  },
  {
   "cell_type": "code",
   "execution_count": null,
   "metadata": {},
   "outputs": [],
   "source": [
    "#Delete nans\n",
    "X_train_nan = remove_NaN_features(X, 0.30)\n",
    "#Need to rescale to do PCA\n",
    "X_train_nan, _, _ = standardize(X_train_nan)\n",
    "\n",
    "pca_axes(X_train_nan,1,1.1, verbose=False)"
   ]
  }
 ],
 "metadata": {
  "kernelspec": {
   "display_name": "Python 3",
   "language": "python",
   "name": "python3"
  },
  "language_info": {
   "codemirror_mode": {
    "name": "ipython",
    "version": 3
   },
   "file_extension": ".py",
   "mimetype": "text/x-python",
   "name": "python",
   "nbconvert_exporter": "python",
   "pygments_lexer": "ipython3",
   "version": "3.7.3"
  }
 },
 "nbformat": 4,
 "nbformat_minor": 2
}
